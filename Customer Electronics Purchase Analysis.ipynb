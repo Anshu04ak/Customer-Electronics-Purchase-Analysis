{
 "cells": [
  {
   "cell_type": "code",
   "execution_count": null,
   "id": "35149d33-09f8-4108-afdf-1f5bdc84ca46",
   "metadata": {},
   "outputs": [],
   "source": [
    "# Importing the libraries\n",
    "import pandas as pd\n",
    "import numpy as np\n",
    "import matplotlib.pyplot as plt\n",
    "\n",
    "# visualization\n",
    "import seaborn as sns\n",
    "\n",
    "# Importing the dataset\n",
    "dataset = pd.read_csv(r'D:\\Download/cleaned.csv')\n",
    "\n",
    "# list of first five rows\n",
    "dataset.head()"
   ]
  },
  {
   "cell_type": "code",
   "execution_count": null,
   "id": "4d92a751-11e4-4b62-b8c9-c7f19efb5c1c",
   "metadata": {},
   "outputs": [],
   "source": [
    "dataset"
   ]
  },
  {
   "cell_type": "code",
   "execution_count": null,
   "id": "7bfda24c-4258-491f-a148-f04e2daef18d",
   "metadata": {},
   "outputs": [],
   "source": [
    "# list of last five rows\n",
    "dataset.tail()"
   ]
  },
  {
   "cell_type": "code",
   "execution_count": null,
   "id": "e3ab26fc-9508-49c3-94fb-1e14053b98d4",
   "metadata": {},
   "outputs": [],
   "source": [
    "# shape\n",
    "dataset.shape"
   ]
  },
  {
   "cell_type": "markdown",
   "id": "7aa7a067-1a45-41f6-83f5-0cedfafdf377",
   "metadata": {},
   "source": [
    "**Inference:** Dataset comprises 45166 Rows and 12 columns."
   ]
  },
  {
   "cell_type": "code",
   "execution_count": null,
   "id": "a7711a29-c344-4c32-a598-4c4610d5314e",
   "metadata": {},
   "outputs": [],
   "source": [
    "dataset.info()"
   ]
  },
  {
   "cell_type": "markdown",
   "id": "602e2313-0175-4e7f-8a22-613b5077a95c",
   "metadata": {},
   "source": [
    "**Inference:** No Variable column has null/missing values"
   ]
  },
  {
   "cell_type": "code",
   "execution_count": null,
   "id": "b137703d-631c-4397-bcc5-c08630476847",
   "metadata": {},
   "outputs": [],
   "source": [
    "# The statistical summary of the dataset.\n",
    "dataset.describe()"
   ]
  },
  {
   "cell_type": "code",
   "execution_count": null,
   "id": "198da094-c13c-469a-aa72-43e91629a048",
   "metadata": {},
   "outputs": [],
   "source": [
    "# The statistical summary of the dataset.\n",
    "dataset['rating'].describe()"
   ]
  },
  {
   "cell_type": "markdown",
   "id": "70bdf602-d3fd-4502-9069-8afbd28d720a",
   "metadata": {},
   "source": [
    "**Inference:** The statistical summary of the dataset gives us the following information:\n",
    "1. The mean rating is **4.2**.\n",
    "2. The minimum rating is **1**.\n",
    "3. The maximum rating is **5**.\n",
    "4. The standard deviation of the ratings is **1.22**.\n",
    "5. The 25th percentile of the ratings is **4**.\n",
    "6. The 50th percentile of the ratings is **5**.\n",
    "7. The 75th percentile of the ratings is **5**."
   ]
  },
  {
   "cell_type": "code",
   "execution_count": null,
   "id": "8c781b1e-4e2e-428e-b9bc-031e91b4edf0",
   "metadata": {},
   "outputs": [],
   "source": [
    "# the number of unique users and items in the dataset.\n",
    "dataset.nunique()"
   ]
  },
  {
   "cell_type": "markdown",
   "id": "52f98106-36c8-4881-bb2c-c8fd7e7718fe",
   "metadata": {},
   "source": [
    "#### Dealing With Missing Values"
   ]
  },
  {
   "cell_type": "code",
   "execution_count": null,
   "id": "420f275f-6b34-40f8-9199-11445c549740",
   "metadata": {},
   "outputs": [],
   "source": [
    "# check for missing values\n",
    "dataset.isnull().sum()"
   ]
  },
  {
   "cell_type": "markdown",
   "id": "eee9c68c-7dba-4306-8964-b3944747752a",
   "metadata": {},
   "source": [
    "**Inference:** No Variable column has null values"
   ]
  },
  {
   "cell_type": "code",
   "execution_count": null,
   "id": "3c600212-4910-4d64-963c-51c3178f1355",
   "metadata": {},
   "outputs": [],
   "source": [
    "# Group by year and sum the sales amounts\n",
    "sales_per_year = dataset.groupby('year')['amount'].sum().reset_index()\n",
    "\n",
    "# Find the year with the highest sales\n",
    "highest_sales_year = sales_per_year.loc[sales_per_year['amount'].idxmax()]\n",
    "\n",
    "# Display the result\n",
    "print(f\"The highest sales year is {highest_sales_year['year']} with total sales of ${highest_sales_year['amount']}.\")\n"
   ]
  },
  {
   "cell_type": "code",
   "execution_count": null,
   "id": "f4ae0921-0cbc-4a75-9fda-aa061ac333e4",
   "metadata": {},
   "outputs": [],
   "source": [
    "# Total Revenue\n",
    "total_revenue = dataset['amount'].sum()\n",
    "print(total_revenue)"
   ]
  },
  {
   "cell_type": "markdown",
   "id": "4cfe3f40-671c-4750-afef-47a9e7cfcac8",
   "metadata": {},
   "source": [
    "### **Data Visualizations**"
   ]
  },
  {
   "cell_type": "markdown",
   "id": "8d7ae225-d9df-4456-bad4-0ca312ff6ccb",
   "metadata": {},
   "source": [
    "#### What was the best year of sales?"
   ]
  },
  {
   "cell_type": "code",
   "execution_count": null,
   "id": "2902d308-a65e-4d2c-9f44-493d0ef5ad30",
   "metadata": {},
   "outputs": [],
   "source": [
    "# Grouping the dataset by 'year' and counting the 'amount' for each year\n",
    "grouped_data = dataset.groupby('year')['amount'].count()\n",
    "\n",
    "# Creating the bar plot\n",
    "plt.figure(figsize=(10,6))\n",
    "plt.bar(grouped_data.index, grouped_data.values)\n",
    "\n",
    "# Adding title and labels\n",
    "plt.title('Year Wise Sales')\n",
    "plt.xlabel('Year')\n",
    "plt.ylabel('Count of Sales')\n",
    "\n",
    "# Displaying the plot\n",
    "plt.show()"
   ]
  },
  {
   "cell_type": "markdown",
   "id": "b64ff07c-eac2-49f8-b538-5527d4e42cd9",
   "metadata": {},
   "source": [
    "**Inference:**\n",
    "1. From the graph we just plotted we can see that year 2015 had the best sales out of all years.\n",
    "2. There was a steady increase of sales from the year 2007 to 2015 then a slight decline in 2016. That decline in sales was big in the following years of 2017 and 2018.\n"
   ]
  },
  {
   "cell_type": "markdown",
   "id": "d58efda5-bdee-4e3b-84dc-a2a66ec7b3ca",
   "metadata": {},
   "source": [
    "#### Which was the best month for sales between 2015 t0 2018?"
   ]
  },
  {
   "cell_type": "code",
   "execution_count": null,
   "id": "36ac831b-534a-4927-b6a1-1391903a5183",
   "metadata": {},
   "outputs": [],
   "source": [
    "# Filtering the dataset for the years between 2015 and 2018\n",
    "dataset_2015_2018 = dataset[(dataset['year'] >= 2015) & (dataset['year'] <= 2018)]\n",
    "\n",
    "# Grouping the filtered dataset by 'month' and counting the 'rating'\n",
    "grouped_data = dataset_2015_2018.groupby('month')['rating'].count()\n",
    "\n",
    "# Creating the bar plot\n",
    "plt.figure(figsize=(10,6))\n",
    "plt.bar(grouped_data.index, grouped_data.values)\n",
    "\n",
    "# Adding title and labels\n",
    "plt.title('Month Wise Rating Count (2015-2018)')\n",
    "plt.xlabel('Month')\n",
    "plt.ylabel('Count of Ratings')\n",
    "\n",
    "# Display the plot\n",
    "plt.show()"
   ]
  },
  {
   "cell_type": "markdown",
   "id": "efb720c0-5d6c-4392-b873-4ec1382b77f8",
   "metadata": {},
   "source": [
    "**Inference:** *January* was the month when most sales were made across the product categories and over the years."
   ]
  },
  {
   "cell_type": "markdown",
   "id": "ccd98484-ddaa-4076-b635-0bd6ce08c1ae",
   "metadata": {},
   "source": [
    "#### What brand sold the most in the highest selling year(2015 to 2018)?"
   ]
  },
  {
   "cell_type": "code",
   "execution_count": null,
   "id": "765244a8-d700-4a00-8e6e-4b7af4881a5d",
   "metadata": {},
   "outputs": [],
   "source": [
    "# Filtering the dataset for the years between 2015 and 2018\n",
    "dataset_2015_2018 = dataset[(dataset['year'] >= 2015) & (dataset['year'] <= 2018)]\n",
    "\n",
    "# Grouping the filtered dataset by 'brand' and summing the 'amount', then sorting it\n",
    "grouped_data = dataset_2015_2018.groupby('brand')['amount'].sum().sort_values(ascending=False).head(10)\n",
    "\n",
    "# Creating the bar plot\n",
    "plt.figure(figsize=(10,6))\n",
    "plt.bar(grouped_data.index, grouped_data.values)\n",
    "\n",
    "# Adding title and labels\n",
    "plt.title('Brand Wise Top 10 Sales (2015 to 2018)')\n",
    "plt.xlabel('Brand')\n",
    "plt.ylabel('Total Sales Amount')\n",
    "\n",
    "# Display the plot\n",
    "plt.show()"
   ]
  },
  {
   "cell_type": "markdown",
   "id": "8e80f75e-cb4c-4c33-b5f2-34fd76190fc1",
   "metadata": {},
   "source": [
    "**Inference:** *Bose* was the brand with the most sales in 2015 to 2018 followed by Logitech."
   ]
  },
  {
   "cell_type": "markdown",
   "id": "08dcf668-eba5-4211-bf0a-bee45c4985d3",
   "metadata": {},
   "source": [
    "#### What products sold the most in the four years 2015, 2016, 2017 & 2018?"
   ]
  },
  {
   "cell_type": "code",
   "execution_count": null,
   "id": "d67cbf9b-2c85-4473-a248-46dfd64563ff",
   "metadata": {},
   "outputs": [],
   "source": [
    "# Create subplots with 2 rows and 2 columns\n",
    "fig, axs = plt.subplots(2, 2, figsize=(12, 10))\n",
    "\n",
    "# Plot for 2015\n",
    "top_selling_2015 = dataset[dataset['year'] == 2015].groupby('brand')['rating'].count().sort_values(ascending=False).head(10)\n",
    "axs[0, 0].bar(top_selling_2015.index, top_selling_2015)\n",
    "axs[0, 0].set_title('Top Selling Products in 2015')\n",
    "axs[0, 0].tick_params(axis='x', rotation=45)  \n",
    "\n",
    "# Plot for 2016\n",
    "top_selling_2016 = dataset[dataset['year'] == 2016].groupby('brand')['rating'].count().sort_values(ascending=False).head(10)\n",
    "axs[0, 1].bar(top_selling_2016.index, top_selling_2016)\n",
    "axs[0, 1].set_title('Top Selling Products in 2016')\n",
    "axs[0, 1].tick_params(axis='x', rotation=45)  \n",
    "\n",
    "# Plot for 2017\n",
    "top_selling_2017 = dataset[dataset['year'] == 2017].groupby('brand')['rating'].count().sort_values(ascending=False).head(10)\n",
    "axs[1, 0].bar(top_selling_2017.index, top_selling_2017)\n",
    "axs[1, 0].set_title('Top Selling Products in 2017')\n",
    "axs[1, 0].tick_params(axis='x', rotation=45) \n",
    "\n",
    "# Plot for 2018\n",
    "top_selling_2018 = dataset[dataset['year'] == 2018].groupby('brand')['rating'].count().sort_values(ascending=False).head(10)\n",
    "axs[1, 1].bar(top_selling_2018.index, top_selling_2018)\n",
    "axs[1, 1].set_title('Top Selling Products in 2018')\n",
    "axs[1, 1].tick_params(axis='x', rotation=45)  \n",
    "\n",
    "# Adjust layout for better appearance\n",
    "plt.tight_layout()\n",
    "\n",
    "# Show the plots\n",
    "plt.show()"
   ]
  },
  {
   "cell_type": "markdown",
   "id": "6c821d57-f68d-437b-80e7-101cdc0f7e09",
   "metadata": {},
   "source": [
    "**Inference:**\n",
    "1. There has been one consistent Brand product with the most sales in the 4 years and it is Bose.\n",
    "2. The second most sold brand's products have been Logitech.\n",
    "* 2015 (Bose and Logitech)\n",
    "* 2016 (Bose and Logitech)\n",
    "* 2017 (Bose and Logitech)\n",
    "* 2018 (Bose and Logitech)"
   ]
  },
  {
   "cell_type": "markdown",
   "id": "c8f2c57e-af26-437e-830e-ede3b5536641",
   "metadata": {},
   "source": [
    "#### What product by category sold the most between 2015 to 2018?"
   ]
  },
  {
   "cell_type": "code",
   "execution_count": null,
   "id": "cedcee68-925f-4eb1-956b-939a8fed85df",
   "metadata": {},
   "outputs": [],
   "source": [
    "# Filtering the dataset for the years between 2015 and 2018\n",
    "dataset2015_2018 = dataset[(dataset['year'] >= 2015) & (dataset['year'] <= 2018)]\n",
    "\n",
    "# Grouping the filtered dataset by 'category' and summing the 'amount', then sorting it\n",
    "top_categories = dataset2015_2018.groupby('category')['amount'].sum().sort_values(ascending=False).head(10)\n",
    "\n",
    "# Creating the bar plot\n",
    "plt.figure(figsize=(10,6))\n",
    "plt.bar(top_categories.index, top_categories.values)\n",
    "\n",
    "# Adding title and labels\n",
    "plt.title('Top 10 Most Sold Product Categories (2015 to 2018)')\n",
    "plt.xlabel('Product Category')\n",
    "plt.ylabel('Total Sales Amount')\n",
    "plt.xticks(rotation=45)  \n",
    "\n",
    "# Display the plot\n",
    "plt.tight_layout()\n",
    "plt.show()"
   ]
  },
  {
   "cell_type": "markdown",
   "id": "1ea4da32-b747-4f67-8c7a-d1f7784565e0",
   "metadata": {},
   "source": [
    "**Inference:** We can see that the category of *Headphones* sold the most, *Computers* and *Accessories* were sold the second most while *Cameras* sold the third most ."
   ]
  },
  {
   "cell_type": "markdown",
   "id": "acba5478-9d78-4624-ba1d-f74d8f36d5ed",
   "metadata": {},
   "source": [
    "#### What product by category sold the least between 2015 to 2018?"
   ]
  },
  {
   "cell_type": "code",
   "execution_count": null,
   "id": "0817b57e-6a37-4786-99e5-3a0e61889d26",
   "metadata": {},
   "outputs": [],
   "source": [
    "# Filtering the dataset for the years between 2015 and 2018\n",
    "dataset2015_2018 = dataset[(dataset['year'] >= 2015) & (dataset['year'] <= 2018)]\n",
    "\n",
    "# Grouping the filtered dataset by 'category' and summing the 'amount', then sorting it\n",
    "top_categories = dataset2015_2018.groupby('category')['amount'].sum().sort_values(ascending=True).head(10)\n",
    "\n",
    "# Creating the bar plot\n",
    "plt.figure(figsize=(10,6))\n",
    "plt.bar(top_categories.index, top_categories.values)\n",
    "\n",
    "# Adding title and labels\n",
    "plt.title('Top 10 Least Sold Product Categories (2015 to 2018)')\n",
    "plt.xlabel('Product Category')\n",
    "plt.ylabel('Total Sales Amount')\n",
    "plt.xticks(rotation=45)  \n",
    "\n",
    "# Display the plot\n",
    "plt.tight_layout()\n",
    "plt.show()"
   ]
  },
  {
   "cell_type": "markdown",
   "id": "c696d970-3d74-4063-b471-b306e893e07e",
   "metadata": {},
   "source": [
    "**Inference:** We can see that the category of *Wearable Technology* sold the least followed closely by *Security* and *Surveillance*."
   ]
  },
  {
   "cell_type": "markdown",
   "id": "e475543d-babc-4153-ae01-522b3874a7fb",
   "metadata": {},
   "source": [
    "#### What product by brand name sold the least between 2015 to 2018?"
   ]
  },
  {
   "cell_type": "code",
   "execution_count": null,
   "id": "c9dbaa57-826e-429c-840f-d121ab89b331",
   "metadata": {},
   "outputs": [],
   "source": [
    "# Filtering the dataset for the years between 2015 and 2018\n",
    "dataset2015_2018 = dataset[(dataset['year'] >= 2015) & (dataset['year'] <= 2018)]\n",
    "\n",
    "# Grouping the filtered dataset by 'brand' and summing the 'amount', then sorting it in ascending order\n",
    "least_selling_brands = dataset2015_2018.groupby('brand')['amount'].sum().sort_values(ascending=True).head(10)\n",
    "\n",
    "# Creating the bar plot\n",
    "plt.figure(figsize=(10,6))\n",
    "plt.bar(least_selling_brands.index, least_selling_brands.values)\n",
    "\n",
    "# Adding title and labels\n",
    "plt.title('10 Least Sold Product Brands (2015 to 2018)')\n",
    "plt.xlabel('Brand')\n",
    "plt.ylabel('Total Sales Amount')\n",
    "plt.xticks(rotation=45) \n",
    "\n",
    "# Display the plot\n",
    "plt.tight_layout()\n",
    "plt.show()"
   ]
  },
  {
   "cell_type": "markdown",
   "id": "d9b5acb6-7a4a-4105-b76b-63fbbe99dc45",
   "metadata": {},
   "source": [
    "**Inference:** *Archos* sold the least followed closely with *EINCAR*."
   ]
  },
  {
   "cell_type": "markdown",
   "id": "3d5b0c56-33bd-49a5-8def-d2d1f6b0d41f",
   "metadata": {},
   "source": [
    "#### **Ratings Distribution**"
   ]
  },
  {
   "cell_type": "code",
   "execution_count": null,
   "id": "998ef089-45ba-4643-916d-d6c80739bd9e",
   "metadata": {},
   "outputs": [],
   "source": [
    "# Filtering the dataset for the years between 2015 and 2018\n",
    "dataset2015_2018 = dataset[(dataset['year'] >= 2015) & (dataset['year'] <= 2018)]\n",
    "\n",
    "# Grouping the filtered dataset by 'brand' and calculating the mean of 'rating', then sorting in descending order\n",
    "top_rated_brands = dataset2015_2018.groupby('brand')['rating'].mean().sort_values(ascending=False).head(10)\n",
    "\n",
    "# Creating the bar plot\n",
    "plt.figure(figsize=(8,6))\n",
    "plt.bar(top_rated_brands.index, top_rated_brands.values)\n",
    "\n",
    "# Adding title and labels\n",
    "plt.title('10 Most Highly Rated Brands (2015 to 2018)')\n",
    "plt.xlabel('Brand')\n",
    "plt.ylabel('Average Rating')\n",
    "plt.xticks(rotation=45) \n",
    "\n",
    "# Display the plot\n",
    "plt.tight_layout()\n",
    "plt.show()"
   ]
  },
  {
   "cell_type": "markdown",
   "id": "fe5e3409-810a-440b-a59f-6cf1f0212bb9",
   "metadata": {},
   "source": [
    "**Inference:** *Savage* and *Plemo* were the brands with the highest ratings."
   ]
  },
  {
   "cell_type": "markdown",
   "id": "d645c43f-29f4-40e5-a972-3f1ccb0a4e9b",
   "metadata": {},
   "source": [
    "#### **Top 5 category sales percentage**"
   ]
  },
  {
   "cell_type": "code",
   "execution_count": null,
   "id": "bc521c08-970e-45dc-89ff-e80ebe48d4b9",
   "metadata": {},
   "outputs": [],
   "source": [
    "import matplotlib.pyplot as plt\n",
    "\n",
    "# Grouping the dataset by 'category' and summing the 'amount', then sorting it in descending order\n",
    "top_categories = dataset.groupby('category')['amount'].sum().sort_values(ascending=False).head(5)\n",
    "\n",
    "# Creating the pie chart\n",
    "plt.figure(figsize=(6,6))\n",
    "plt.pie(top_categories, labels=top_categories.index, autopct='%1.1f%%', startangle=90)\n",
    "\n",
    "# Adding title\n",
    "plt.title('Top 5 Category Sales Percentage')\n",
    "\n",
    "# Display the plot\n",
    "plt.show()\n"
   ]
  },
  {
   "cell_type": "markdown",
   "id": "3d51841a-39ec-42d2-bfca-364dab1f28f8",
   "metadata": {},
   "source": [
    "**Inference:** *Headphones* sales % is the highest followed by *Computers* & *Accessories*."
   ]
  },
  {
   "cell_type": "markdown",
   "id": "4d112aac-11c0-4f7b-a1b6-622d71ef8e56",
   "metadata": {},
   "source": [
    "#### **Brand wise sales percentage**"
   ]
  },
  {
   "cell_type": "code",
   "execution_count": null,
   "id": "e9b69761-95a6-47db-ad45-cc74197a4028",
   "metadata": {},
   "outputs": [],
   "source": [
    "# Grouping the dataset by 'brand' and counting the 'rating', then sorting it in descending order\n",
    "top_brands = dataset.groupby('brand')['rating'].count().sort_values(ascending=False).head(5)\n",
    "\n",
    "# Creating the pie chart\n",
    "plt.figure(figsize=(6,6))\n",
    "plt.pie(top_brands, labels=top_brands.index, autopct='%1.1f%%', startangle=90)\n",
    "\n",
    "# Adding title\n",
    "plt.title('Top 5 Brand Wise Sales Percentage')\n",
    "\n",
    "# Display the plot\n",
    "plt.show()"
   ]
  },
  {
   "cell_type": "markdown",
   "id": "7e75ea32-45cc-4ccf-af04-478817036ee0",
   "metadata": {},
   "source": [
    "**Inference:** *Bose* and *Logitech* sales % is the highest followed by *Sony*."
   ]
  },
  {
   "cell_type": "markdown",
   "id": "0d9d1344-881b-44a7-83d6-191036561afa",
   "metadata": {},
   "source": [
    "#### Gender wise customer distribution"
   ]
  },
  {
   "cell_type": "code",
   "execution_count": null,
   "id": "df30cbe7-f6d8-4cbd-a2de-18b3475368c1",
   "metadata": {},
   "outputs": [],
   "source": [
    "# Counting the occurrences of each gender in the dataset\n",
    "gender_distribution = dataset['gender'].value_counts()\n",
    "\n",
    "# Creating the pie chart\n",
    "plt.figure(figsize=(6, 6))\n",
    "plt.pie(gender_distribution, labels=gender_distribution.index, autopct='%1.1f%%', startangle=90, colors=['#A94064', '#008ECC'])\n",
    "\n",
    "# Adding title\n",
    "plt.title('Gender Wise Customer Distribution')\n",
    "\n",
    "# Display the plot\n",
    "plt.show()"
   ]
  },
  {
   "cell_type": "markdown",
   "id": "09931894-5790-46fd-804e-04f3e3018262",
   "metadata": {},
   "source": [
    "**Inference:** Most of the customers are in *Female* categories."
   ]
  },
  {
   "cell_type": "markdown",
   "id": "b72e3c57-152d-4e20-ba2e-c4b453015d7c",
   "metadata": {},
   "source": [
    "#### **Conclusion:**\n",
    "* **2015** was the best year in terms of sales and profit\n",
    "* **Headphones** was the category with most sales followed closely with Computer and Accessories while the least sales were made in the Category Security & Surveillance.\n",
    "* There has been a steady rise in sales from 2007 to 2015 and a sharp decline from 2016 to 2018.\n",
    "* The brand name **Bose** sold the most followed by Logitech.\n",
    "* The brand **Archos** sold the least followed closely with EINCAR..\n",
    "* Most products were rated **5**.\n",
    "* Best rated brands were **Savage** and **Plemo**.\n"
   ]
  }
 ],
 "metadata": {
  "kernelspec": {
   "display_name": "Python 3 (ipykernel)",
   "language": "python",
   "name": "python3"
  },
  "language_info": {
   "codemirror_mode": {
    "name": "ipython",
    "version": 3
   },
   "file_extension": ".py",
   "mimetype": "text/x-python",
   "name": "python",
   "nbconvert_exporter": "python",
   "pygments_lexer": "ipython3",
   "version": "3.12.4"
  }
 },
 "nbformat": 4,
 "nbformat_minor": 5
}
